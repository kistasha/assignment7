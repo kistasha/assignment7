{
 "cells": [
  {
   "cell_type": "markdown",
   "id": "ebb56c5b-5cd1-4a8b-a3e7-2c52f59180db",
   "metadata": {},
   "source": [
    "This script will calculate the area of the triangle based on the user's input"
   ]
  },
  {
   "cell_type": "code",
   "execution_count": 3,
   "id": "d7b4093b-b246-447f-a48c-6ec15c043d6f",
   "metadata": {
    "tags": []
   },
   "outputs": [
    {
     "name": "stdin",
     "output_type": "stream",
     "text": [
      "Enter the length of the triangle's base:  6\n",
      "Enter the triangle's height:  5\n"
     ]
    },
    {
     "name": "stdout",
     "output_type": "stream",
     "text": [
      "The area of the given triangle is 15.0\n"
     ]
    }
   ],
   "source": [
    "base=int(input(\"Enter the length of the triangle's base: \"))\n",
    "height=int(input(\"Enter the triangle's height: \"))\n",
    "\n",
    "area=(base * height)/2\n",
    "print(\"The area of the given triangle is \"+str(area))"
   ]
  },
  {
   "cell_type": "code",
   "execution_count": null,
   "id": "a42b5268-8044-427d-8d5f-b081d5bbc35b",
   "metadata": {},
   "outputs": [],
   "source": []
  }
 ],
 "metadata": {
  "kernelspec": {
   "display_name": "Python 3 (ipykernel)",
   "language": "python",
   "name": "python3"
  },
  "language_info": {
   "codemirror_mode": {
    "name": "ipython",
    "version": 3
   },
   "file_extension": ".py",
   "mimetype": "text/x-python",
   "name": "python",
   "nbconvert_exporter": "python",
   "pygments_lexer": "ipython3",
   "version": "3.10.9"
  }
 },
 "nbformat": 4,
 "nbformat_minor": 5
}
