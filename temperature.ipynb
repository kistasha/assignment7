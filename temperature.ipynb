{
 "cells": [
  {
   "cell_type": "markdown",
   "id": "96518814-04d7-412c-b418-4c1841327ff4",
   "metadata": {},
   "source": [
    "This script will take in the temperature in Celcius and output the result in Fahrenheit"
   ]
  },
  {
   "cell_type": "code",
   "execution_count": 3,
   "id": "c01e4c09-a051-423e-95d2-b3266922b4c9",
   "metadata": {
    "tags": []
   },
   "outputs": [
    {
     "name": "stdin",
     "output_type": "stream",
     "text": [
      "Enter temperature in Celsius:  35\n"
     ]
    },
    {
     "name": "stdout",
     "output_type": "stream",
     "text": [
      "35.0 degrees celsius is equal to 95.0 degrees fahrenheit\n"
     ]
    }
   ],
   "source": [
    "celsius=float(input(\"Enter temperature in Celsius: \"))\n",
    "fahrenheit=(celsius*9/5)+32\n",
    "\n",
    "print(str(celsius)+\" degrees celsius is equal to \"+str(fahrenheit)+\" degrees fahrenheit\")"
   ]
  },
  {
   "cell_type": "code",
   "execution_count": null,
   "id": "af7671a9-dd2c-4372-9853-aa9cae7a0383",
   "metadata": {},
   "outputs": [],
   "source": []
  }
 ],
 "metadata": {
  "kernelspec": {
   "display_name": "Python 3 (ipykernel)",
   "language": "python",
   "name": "python3"
  },
  "language_info": {
   "codemirror_mode": {
    "name": "ipython",
    "version": 3
   },
   "file_extension": ".py",
   "mimetype": "text/x-python",
   "name": "python",
   "nbconvert_exporter": "python",
   "pygments_lexer": "ipython3",
   "version": "3.10.9"
  }
 },
 "nbformat": 4,
 "nbformat_minor": 5
}
