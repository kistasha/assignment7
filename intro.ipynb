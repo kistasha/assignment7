{
 "cells": [
  {
   "cell_type": "markdown",
   "id": "4aeba9d0-2e93-4f9c-b3ba-7ab9752f702d",
   "metadata": {},
   "source": [
    "This script will create a little intro for you based on your input"
   ]
  },
  {
   "cell_type": "code",
   "execution_count": 8,
   "id": "a41ed522-1fac-473c-a971-e1308ae68fec",
   "metadata": {
    "tags": []
   },
   "outputs": [
    {
     "name": "stdin",
     "output_type": "stream",
     "text": [
      "Enter your first name:  Sasha\n",
      "Enter your last name:  Kistanova\n",
      "Enter your age as an integer:  23\n",
      "What program are you studying?  MiBA\n"
     ]
    },
    {
     "name": "stdout",
     "output_type": "stream",
     "text": [
      "\n",
      "Introduction:\n",
      "\n",
      "My name is Sasha Kistanova\n",
      "I am 23 years old\n",
      "I am part of the MiBA program:)\n"
     ]
    }
   ],
   "source": [
    "firstName=input(\"Enter your first name: \")\n",
    "lastName=input(\"Enter your last name: \")\n",
    "age=int(input(\"Enter your age as an integer: \"))\n",
    "program=input(\"What program are you studying? \")\n",
    "\n",
    "intro=(\"\\nIntroduction:\\n\\nMy name is \"+firstName+\" \"+lastName+\"\\nI am \"+str(age)+\" years old\\nI am part of the \"+program+\" program:)\")\n",
    "print(intro)"
   ]
  },
  {
   "cell_type": "code",
   "execution_count": null,
   "id": "b52c9e1f-f55d-4642-aa28-a3a96cc0bcca",
   "metadata": {},
   "outputs": [],
   "source": []
  }
 ],
 "metadata": {
  "kernelspec": {
   "display_name": "Python 3 (ipykernel)",
   "language": "python",
   "name": "python3"
  },
  "language_info": {
   "codemirror_mode": {
    "name": "ipython",
    "version": 3
   },
   "file_extension": ".py",
   "mimetype": "text/x-python",
   "name": "python",
   "nbconvert_exporter": "python",
   "pygments_lexer": "ipython3",
   "version": "3.10.9"
  }
 },
 "nbformat": 4,
 "nbformat_minor": 5
}
